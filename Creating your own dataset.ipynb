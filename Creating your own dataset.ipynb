{
 "cells": [
  {
   "cell_type": "code",
   "execution_count": 1,
   "id": "05e76cb3",
   "metadata": {},
   "outputs": [
    {
     "name": "stdout",
     "output_type": "stream",
     "text": [
      "Requirement already satisfied: requests in /Users/siddharth/anaconda3/lib/python3.11/site-packages (2.31.0)\n",
      "Requirement already satisfied: charset-normalizer<4,>=2 in /Users/siddharth/anaconda3/lib/python3.11/site-packages (from requests) (2.0.4)\n",
      "Requirement already satisfied: idna<4,>=2.5 in /Users/siddharth/anaconda3/lib/python3.11/site-packages (from requests) (3.4)\n",
      "Requirement already satisfied: urllib3<3,>=1.21.1 in /Users/siddharth/anaconda3/lib/python3.11/site-packages (from requests) (1.26.16)\n",
      "Requirement already satisfied: certifi>=2017.4.17 in /Users/siddharth/anaconda3/lib/python3.11/site-packages (from requests) (2025.4.26)\n",
      "\n",
      "\u001b[1m[\u001b[0m\u001b[34;49mnotice\u001b[0m\u001b[1;39;49m]\u001b[0m\u001b[39;49m A new release of pip is available: \u001b[0m\u001b[31;49m23.2.1\u001b[0m\u001b[39;49m -> \u001b[0m\u001b[32;49m25.1.1\u001b[0m\n",
      "\u001b[1m[\u001b[0m\u001b[34;49mnotice\u001b[0m\u001b[1;39;49m]\u001b[0m\u001b[39;49m To update, run: \u001b[0m\u001b[32;49mpip install --upgrade pip\u001b[0m\n"
     ]
    }
   ],
   "source": [
    "!pip install requests"
   ]
  },
  {
   "cell_type": "code",
   "execution_count": 2,
   "id": "fef5788e",
   "metadata": {},
   "outputs": [],
   "source": [
    "import requests\n",
    "\n",
    "url = \"https://api.github.com/repos/huggingface/datasets/issues?page=1&per_page=1\"\n",
    "response = requests.get(url)"
   ]
  },
  {
   "cell_type": "code",
   "execution_count": 3,
   "id": "833a53a6",
   "metadata": {},
   "outputs": [
    {
     "data": {
      "text/plain": [
       "200"
      ]
     },
     "execution_count": 3,
     "metadata": {},
     "output_type": "execute_result"
    }
   ],
   "source": [
    "response.status_code"
   ]
  },
  {
   "cell_type": "code",
   "execution_count": 4,
   "id": "f13b1104",
   "metadata": {},
   "outputs": [
    {
     "data": {
      "text/plain": [
       "[{'url': 'https://api.github.com/repos/huggingface/datasets/issues/7607',\n",
       "  'repository_url': 'https://api.github.com/repos/huggingface/datasets',\n",
       "  'labels_url': 'https://api.github.com/repos/huggingface/datasets/issues/7607/labels{/name}',\n",
       "  'comments_url': 'https://api.github.com/repos/huggingface/datasets/issues/7607/comments',\n",
       "  'events_url': 'https://api.github.com/repos/huggingface/datasets/issues/7607/events',\n",
       "  'html_url': 'https://github.com/huggingface/datasets/issues/7607',\n",
       "  'id': 3135722560,\n",
       "  'node_id': 'I_kwDODunzps6651RA',\n",
       "  'number': 7607,\n",
       "  'title': 'Video and audio decoding with torchcodec',\n",
       "  'user': {'login': 'TyTodd',\n",
       "   'id': 49127578,\n",
       "   'node_id': 'MDQ6VXNlcjQ5MTI3NTc4',\n",
       "   'avatar_url': 'https://avatars.githubusercontent.com/u/49127578?v=4',\n",
       "   'gravatar_id': '',\n",
       "   'url': 'https://api.github.com/users/TyTodd',\n",
       "   'html_url': 'https://github.com/TyTodd',\n",
       "   'followers_url': 'https://api.github.com/users/TyTodd/followers',\n",
       "   'following_url': 'https://api.github.com/users/TyTodd/following{/other_user}',\n",
       "   'gists_url': 'https://api.github.com/users/TyTodd/gists{/gist_id}',\n",
       "   'starred_url': 'https://api.github.com/users/TyTodd/starred{/owner}{/repo}',\n",
       "   'subscriptions_url': 'https://api.github.com/users/TyTodd/subscriptions',\n",
       "   'organizations_url': 'https://api.github.com/users/TyTodd/orgs',\n",
       "   'repos_url': 'https://api.github.com/users/TyTodd/repos',\n",
       "   'events_url': 'https://api.github.com/users/TyTodd/events{/privacy}',\n",
       "   'received_events_url': 'https://api.github.com/users/TyTodd/received_events',\n",
       "   'type': 'User',\n",
       "   'user_view_type': 'public',\n",
       "   'site_admin': False},\n",
       "  'labels': [{'id': 1935892871,\n",
       "    'node_id': 'MDU6TGFiZWwxOTM1ODkyODcx',\n",
       "    'url': 'https://api.github.com/repos/huggingface/datasets/labels/enhancement',\n",
       "    'name': 'enhancement',\n",
       "    'color': 'a2eeef',\n",
       "    'default': True,\n",
       "    'description': 'New feature or request'}],\n",
       "  'state': 'open',\n",
       "  'locked': False,\n",
       "  'assignee': None,\n",
       "  'assignees': [],\n",
       "  'milestone': None,\n",
       "  'comments': 0,\n",
       "  'created_at': '2025-06-11T07:02:30Z',\n",
       "  'updated_at': '2025-06-11T07:02:30Z',\n",
       "  'closed_at': None,\n",
       "  'author_association': 'NONE',\n",
       "  'type': None,\n",
       "  'active_lock_reason': None,\n",
       "  'sub_issues_summary': {'total': 0, 'completed': 0, 'percent_completed': 0},\n",
       "  'body': \"### Feature request\\n\\nPytorch is migrating video processing to torchcodec and it's pretty cool. It would be nice to migrate both the audio and video features to use torchcodec instead of torchaudio/video.\\n\\n### Motivation\\n\\nMy use case is I'm working on a multimodal AV model, and what's nice about torchcodec is I can extract the audio tensors directly from MP4 files. Also, I can easily resample video data to whatever fps I like on the fly. I haven't found an easy/efficient way to do this with torchvision.\\n\\n### Your contribution\\n\\nI’m modifying the Video dataclass to use torchcodec in place of the current backend, starting from a stable commit for a project I’m working on. If it ends up working well, I’m happy to open a PR on main.\",\n",
       "  'closed_by': None,\n",
       "  'reactions': {'url': 'https://api.github.com/repos/huggingface/datasets/issues/7607/reactions',\n",
       "   'total_count': 0,\n",
       "   '+1': 0,\n",
       "   '-1': 0,\n",
       "   'laugh': 0,\n",
       "   'hooray': 0,\n",
       "   'confused': 0,\n",
       "   'heart': 0,\n",
       "   'rocket': 0,\n",
       "   'eyes': 0},\n",
       "  'timeline_url': 'https://api.github.com/repos/huggingface/datasets/issues/7607/timeline',\n",
       "  'performed_via_github_app': None,\n",
       "  'state_reason': None}]"
      ]
     },
     "execution_count": 4,
     "metadata": {},
     "output_type": "execute_result"
    }
   ],
   "source": [
    "response.json()"
   ]
  },
  {
   "cell_type": "code",
   "execution_count": null,
   "id": "ba3da215",
   "metadata": {},
   "outputs": [],
   "source": []
  }
 ],
 "metadata": {
  "kernelspec": {
   "display_name": "Python 3.9 (pytorch)",
   "language": "python",
   "name": "pytorch"
  },
  "language_info": {
   "codemirror_mode": {
    "name": "ipython",
    "version": 3
   },
   "file_extension": ".py",
   "mimetype": "text/x-python",
   "name": "python",
   "nbconvert_exporter": "python",
   "pygments_lexer": "ipython3",
   "version": "3.9.18"
  }
 },
 "nbformat": 4,
 "nbformat_minor": 5
}
