{
 "cells": [
  {
   "cell_type": "code",
   "execution_count": 45,
   "id": "b44579e2",
   "metadata": {},
   "outputs": [
    {
     "name": "stdout",
     "output_type": "stream",
     "text": [
      "  Type of Repairer Type of category Type of garment in category   Service  \\\n",
      "0           Tailor          Clothes                         Top      Hole   \n",
      "1           Tailor          Clothes                         Top   Take in   \n",
      "2           Tailor          Clothes                         Top   Take in   \n",
      "3           Tailor          Clothes                         Top  Take out   \n",
      "4           Tailor          Clothes                         Top  Take out   \n",
      "\n",
      "            Description  Price  Estimated time in hours  \n",
      "0        Price per hole  199.0                      NaN  \n",
      "1  Only existing fabric  349.0                      NaN  \n",
      "2     Additional fabric  549.0                      NaN  \n",
      "3  Only existing fabric  349.0                      NaN  \n",
      "4     Additional fabric  549.0                      NaN  \n"
     ]
    }
   ],
   "source": [
    "import pandas as pd\n",
    "\n",
    "df = pd.read_csv(\"Categories_FikseHub.csv\")\n",
    "print(df.head())\n"
   ]
  },
  {
   "cell_type": "code",
   "execution_count": 46,
   "id": "4bb71f2a",
   "metadata": {},
   "outputs": [
    {
     "name": "stdout",
     "output_type": "stream",
     "text": [
      "Dataset({\n",
      "    features: ['Type of Repairer', 'Type of category', 'Type of garment in category', 'Service', 'Description', 'Price', 'Estimated time in hours'],\n",
      "    num_rows: 257\n",
      "})\n"
     ]
    }
   ],
   "source": [
    "from datasets import load_dataset\n",
    "\n",
    "categories_dataset = load_dataset(\"csv\",data_files=\"Categories_FikseHub.csv\",split=\"train\")\n",
    "\n",
    "print(categories_dataset)\n",
    "\n"
   ]
  },
  {
   "cell_type": "code",
   "execution_count": 47,
   "id": "90b94ebc",
   "metadata": {},
   "outputs": [
    {
     "name": "stdout",
     "output_type": "stream",
     "text": [
      "['Type of Repairer', 'Type of category', 'Type of garment in category', 'Service', 'Description', 'Price', 'Estimated time in hours']\n"
     ]
    }
   ],
   "source": [
    "columns = categories_dataset.column_names\n",
    "print(columns)"
   ]
  },
  {
   "cell_type": "code",
   "execution_count": 48,
   "id": "134229bf",
   "metadata": {},
   "outputs": [],
   "source": [
    "categories_dataset.set_format(\"pandas\")\n",
    "df = categories_dataset[:]"
   ]
  },
  {
   "cell_type": "code",
   "execution_count": 49,
   "id": "a0b80c6f",
   "metadata": {},
   "outputs": [
    {
     "name": "stdout",
     "output_type": "stream",
     "text": [
      "  Type of Repairer Type of category Type of garment in category   Service  \\\n",
      "0           Tailor          Clothes                         Top      Hole   \n",
      "1           Tailor          Clothes                         Top   Take in   \n",
      "2           Tailor          Clothes                         Top   Take in   \n",
      "3           Tailor          Clothes                         Top  Take out   \n",
      "4           Tailor          Clothes                         Top  Take out   \n",
      "\n",
      "            Description  Price  Estimated time in hours  \n",
      "0        Price per hole  199.0                      NaN  \n",
      "1  Only existing fabric  349.0                      NaN  \n",
      "2     Additional fabric  549.0                      NaN  \n",
      "3  Only existing fabric  349.0                      NaN  \n",
      "4     Additional fabric  549.0                      NaN  \n"
     ]
    }
   ],
   "source": [
    "print(df.head())"
   ]
  },
  {
   "cell_type": "code",
   "execution_count": 50,
   "id": "dff2c87c",
   "metadata": {},
   "outputs": [
    {
     "name": "stdout",
     "output_type": "stream",
     "text": [
      "['Type of Repairer', 'Type of category', 'Type of garment in category', 'Service', 'Description', 'Price', 'Estimated time in hours']\n"
     ]
    }
   ],
   "source": [
    "print(categories_dataset.column_names) "
   ]
  },
  {
   "cell_type": "code",
   "execution_count": 51,
   "id": "2923adc2",
   "metadata": {},
   "outputs": [
    {
     "name": "stdout",
     "output_type": "stream",
     "text": [
      "Dataset({\n",
      "    features: ['Type of Repairer', 'Type of category', 'Type of garment in category', 'Service', 'Description', 'Price', 'Estimated time in hours'],\n",
      "    num_rows: 251\n",
      "})\n"
     ]
    }
   ],
   "source": [
    "def no_nulls(example):\n",
    "    # Replace with your column names\n",
    "    return all(example[col] is not None for col in example.keys())\n",
    "\n",
    "categories_dataset = categories_dataset.filter(no_nulls)\n",
    "\n",
    "print(categories_dataset)"
   ]
  },
  {
   "cell_type": "code",
   "execution_count": 53,
   "id": "12207219",
   "metadata": {},
   "outputs": [
    {
     "data": {
      "application/vnd.jupyter.widget-view+json": {
       "model_id": "a80c3fd676f64672b1aacd8711567965",
       "version_major": 2,
       "version_minor": 0
      },
      "text/plain": [
       "Map:   0%|          | 0/251 [00:00<?, ? examples/s]"
      ]
     },
     "metadata": {},
     "output_type": "display_data"
    }
   ],
   "source": [
    "def concatenate_text(examples):\n",
    "    # Create the new text field\n",
    "    text = (\n",
    "        str(examples[\"Type of Repairer\"]) + \"\\n\"\n",
    "        + str(examples[\"Type of category\"]) + \"\\n\"\n",
    "        + str(examples[\"Type of garment in category\"]) + \"\\n\"\n",
    "        + str(examples[\"Service\"]) + \"\\n\"\n",
    "        + str(examples[\"Description\"]) + \"\\n\"\n",
    "        + str(examples[\"Price\"]) + \"\\n\"\n",
    "        + str(examples[\"Estimated time in hours\"])\n",
    "    )\n",
    "    # Add the new text field to the example\n",
    "    examples[\"text\"] = text\n",
    "    return examples\n",
    "\n",
    "categories_dataset = categories_dataset.map(concatenate_text)\n"
   ]
  },
  {
   "cell_type": "code",
   "execution_count": 54,
   "id": "d25449b0",
   "metadata": {},
   "outputs": [
    {
     "name": "stdout",
     "output_type": "stream",
     "text": [
      "['Type of Repairer', 'Type of category', 'Type of garment in category', 'Service', 'Description', 'Price', 'Estimated time in hours', 'text']\n"
     ]
    }
   ],
   "source": [
    "print(categories_dataset.column_names)  \n"
   ]
  },
  {
   "cell_type": "code",
   "execution_count": 56,
   "id": "dde8b91f",
   "metadata": {},
   "outputs": [],
   "source": [
    "from transformers import AutoTokenizer, AutoModel\n",
    "\n",
    "model_checkpoint= \"sentence-transformers/multi-qa-mpnet-base-dot-v1\"\n",
    "tokenizer = AutoTokenizer.from_pretrained(model_checkpoint)\n",
    "model = AutoModel.from_pretrained(model_checkpoint)"
   ]
  },
  {
   "cell_type": "code",
   "execution_count": 57,
   "id": "9d3f4d81",
   "metadata": {},
   "outputs": [],
   "source": [
    "def cls_pooling(model_output):\n",
    "    return model_output.last_hidden_state[:, 0]\n",
    "\n",
    "def get_embeddings(text_list):\n",
    "    encoded_input = tokenizer(\n",
    "        text_list, padding=True, truncation=True, return_tensors=\"pt\"\n",
    "    )\n",
    "    encoded_input = {k: v for k, v in encoded_input.items()}\n",
    "    model_output = model(**encoded_input)\n",
    "    return cls_pooling(model_output)"
   ]
  },
  {
   "cell_type": "code",
   "execution_count": 58,
   "id": "9efa1d26",
   "metadata": {},
   "outputs": [
    {
     "data": {
      "text/plain": [
       "torch.Size([1, 768])"
      ]
     },
     "execution_count": 58,
     "metadata": {},
     "output_type": "execute_result"
    }
   ],
   "source": [
    "#embedding = get_embeddings(categories_dataset[\"text\"][0])\n",
    "\n",
    "embedding = get_embeddings([categories_dataset[\"text\"][0]])\n",
    "embedding.shape"
   ]
  },
  {
   "cell_type": "code",
   "execution_count": 59,
   "id": "33eb55b6",
   "metadata": {},
   "outputs": [
    {
     "data": {
      "application/vnd.jupyter.widget-view+json": {
       "model_id": "06dcf89abfec4ac296bdc5b701175525",
       "version_major": 2,
       "version_minor": 0
      },
      "text/plain": [
       "Map:   0%|          | 0/251 [00:00<?, ? examples/s]"
      ]
     },
     "metadata": {},
     "output_type": "display_data"
    }
   ],
   "source": [
    "embeddings_dataset = categories_dataset.map(\n",
    "    lambda x: {\"embeddings\": get_embeddings([str(x[\"text\"])]).detach().cpu().numpy()[0]},\n",
    "    remove_columns=[]\n",
    ")\n"
   ]
  },
  {
   "cell_type": "code",
   "execution_count": 76,
   "id": "bbcb74bb",
   "metadata": {},
   "outputs": [
    {
     "name": "stdout",
     "output_type": "stream",
     "text": [
      "['Type of Repairer', 'Type of category', 'Type of garment in category', 'Service', 'Description', 'Price', 'Estimated time in hours', 'text']\n"
     ]
    }
   ],
   "source": [
    "print(categories_dataset.column_names)  \n"
   ]
  },
  {
   "cell_type": "code",
   "execution_count": 60,
   "id": "1a6c82e2",
   "metadata": {},
   "outputs": [
    {
     "data": {
      "application/vnd.jupyter.widget-view+json": {
       "model_id": "e5874408d9be418b86f0d1fc07bac359",
       "version_major": 2,
       "version_minor": 0
      },
      "text/plain": [
       "  0%|          | 0/1 [00:00<?, ?it/s]"
      ]
     },
     "metadata": {},
     "output_type": "display_data"
    },
    {
     "data": {
      "text/plain": [
       "Dataset({\n",
       "    features: ['embeddings'],\n",
       "    num_rows: 251\n",
       "})"
      ]
     },
     "execution_count": 60,
     "metadata": {},
     "output_type": "execute_result"
    }
   ],
   "source": [
    "embeddings_dataset.add_faiss_index(column=\"embeddings\")"
   ]
  },
  {
   "cell_type": "code",
   "execution_count": 70,
   "id": "cd7f9754",
   "metadata": {},
   "outputs": [
    {
     "name": "stdout",
     "output_type": "stream",
     "text": [
      "['embeddings']\n"
     ]
    }
   ],
   "source": [
    "print(embeddings_dataset.column_names) "
   ]
  },
  {
   "cell_type": "code",
   "execution_count": null,
   "id": "d880cc12",
   "metadata": {},
   "outputs": [],
   "source": []
  },
  {
   "cell_type": "code",
   "execution_count": 74,
   "id": "c2261bc8",
   "metadata": {},
   "outputs": [],
   "source": [
    "import pandas as pd\n",
    "def search_categories(query, dataset, k=5):\n",
    "    \n",
    "    query_embedding = get_embeddings([query]).detach().cpu().numpy()\n",
    "    \n",
    "    scores, samples = dataset.get_nearest_examples(\"embeddings\", query_embedding, k=k)\n",
    "    \n",
    "    df = pd.DataFrame.from_dict(samples).assign(scores=scores)\n",
    "    df[\"scores\"] = scores\n",
    "    columns_to_show = [\n",
    "        \"Type of Repairer\",\n",
    "        \"Type of category\",\n",
    "        \"Type of garment in category\",\n",
    "        \"Service\",\n",
    "        \"Description\",\n",
    "        \"Price\",\n",
    "        \"Estimated time in hours\",\n",
    "        \"scores\"\n",
    "    ]\n",
    "    \n",
    "    # Return the sorted results\n",
    "    return df[columns_to_show].sort_values(\"scores\", ascending=False)\n",
    "\n"
   ]
  },
  {
   "cell_type": "code",
   "execution_count": 75,
   "id": "f7b54965",
   "metadata": {},
   "outputs": [
    {
     "ename": "KeyError",
     "evalue": "\"['Type of Repairer', 'Type of category', 'Type of garment in category', 'Service', 'Description', 'Price', 'Estimated time in hours'] not in index\"",
     "output_type": "error",
     "traceback": [
      "\u001b[0;31m---------------------------------------------------------------------------\u001b[0m",
      "\u001b[0;31mKeyError\u001b[0m                                  Traceback (most recent call last)",
      "Cell \u001b[0;32mIn[75], line 2\u001b[0m\n\u001b[1;32m      1\u001b[0m \u001b[38;5;66;03m# Usage example:\u001b[39;00m\n\u001b[0;32m----> 2\u001b[0m results_df \u001b[38;5;241m=\u001b[39m \u001b[43msearch_categories\u001b[49m\u001b[43m(\u001b[49m\u001b[38;5;124;43m\"\u001b[39;49m\u001b[38;5;124;43mcotton shirt 199\u001b[39;49m\u001b[38;5;124;43m\"\u001b[39;49m\u001b[43m,\u001b[49m\u001b[43m \u001b[49m\u001b[43membeddings_dataset\u001b[49m\u001b[43m)\u001b[49m\n\u001b[1;32m      3\u001b[0m \u001b[38;5;28mprint\u001b[39m(results_df)\n",
      "Cell \u001b[0;32mIn[74], line 22\u001b[0m, in \u001b[0;36msearch_categories\u001b[0;34m(query, dataset, k)\u001b[0m\n\u001b[1;32m     10\u001b[0m columns_to_show \u001b[38;5;241m=\u001b[39m [\n\u001b[1;32m     11\u001b[0m     \u001b[38;5;124m\"\u001b[39m\u001b[38;5;124mType of Repairer\u001b[39m\u001b[38;5;124m\"\u001b[39m,\n\u001b[1;32m     12\u001b[0m     \u001b[38;5;124m\"\u001b[39m\u001b[38;5;124mType of category\u001b[39m\u001b[38;5;124m\"\u001b[39m,\n\u001b[0;32m   (...)\u001b[0m\n\u001b[1;32m     18\u001b[0m     \u001b[38;5;124m\"\u001b[39m\u001b[38;5;124mscores\u001b[39m\u001b[38;5;124m\"\u001b[39m\n\u001b[1;32m     19\u001b[0m ]\n\u001b[1;32m     21\u001b[0m \u001b[38;5;66;03m# Return the sorted results\u001b[39;00m\n\u001b[0;32m---> 22\u001b[0m \u001b[38;5;28;01mreturn\u001b[39;00m \u001b[43mdf\u001b[49m\u001b[43m[\u001b[49m\u001b[43mcolumns_to_show\u001b[49m\u001b[43m]\u001b[49m\u001b[38;5;241m.\u001b[39msort_values(\u001b[38;5;124m\"\u001b[39m\u001b[38;5;124mscores\u001b[39m\u001b[38;5;124m\"\u001b[39m, ascending\u001b[38;5;241m=\u001b[39m\u001b[38;5;28;01mFalse\u001b[39;00m)\n",
      "File \u001b[0;32m~/anaconda3/envs/torch/lib/python3.9/site-packages/pandas/core/frame.py:3902\u001b[0m, in \u001b[0;36mDataFrame.__getitem__\u001b[0;34m(self, key)\u001b[0m\n\u001b[1;32m   3900\u001b[0m     \u001b[38;5;28;01mif\u001b[39;00m is_iterator(key):\n\u001b[1;32m   3901\u001b[0m         key \u001b[38;5;241m=\u001b[39m \u001b[38;5;28mlist\u001b[39m(key)\n\u001b[0;32m-> 3902\u001b[0m     indexer \u001b[38;5;241m=\u001b[39m \u001b[38;5;28;43mself\u001b[39;49m\u001b[38;5;241;43m.\u001b[39;49m\u001b[43mcolumns\u001b[49m\u001b[38;5;241;43m.\u001b[39;49m\u001b[43m_get_indexer_strict\u001b[49m\u001b[43m(\u001b[49m\u001b[43mkey\u001b[49m\u001b[43m,\u001b[49m\u001b[43m \u001b[49m\u001b[38;5;124;43m\"\u001b[39;49m\u001b[38;5;124;43mcolumns\u001b[39;49m\u001b[38;5;124;43m\"\u001b[39;49m\u001b[43m)\u001b[49m[\u001b[38;5;241m1\u001b[39m]\n\u001b[1;32m   3904\u001b[0m \u001b[38;5;66;03m# take() does not accept boolean indexers\u001b[39;00m\n\u001b[1;32m   3905\u001b[0m \u001b[38;5;28;01mif\u001b[39;00m \u001b[38;5;28mgetattr\u001b[39m(indexer, \u001b[38;5;124m\"\u001b[39m\u001b[38;5;124mdtype\u001b[39m\u001b[38;5;124m\"\u001b[39m, \u001b[38;5;28;01mNone\u001b[39;00m) \u001b[38;5;241m==\u001b[39m \u001b[38;5;28mbool\u001b[39m:\n",
      "File \u001b[0;32m~/anaconda3/envs/torch/lib/python3.9/site-packages/pandas/core/indexes/base.py:6114\u001b[0m, in \u001b[0;36mIndex._get_indexer_strict\u001b[0;34m(self, key, axis_name)\u001b[0m\n\u001b[1;32m   6111\u001b[0m \u001b[38;5;28;01melse\u001b[39;00m:\n\u001b[1;32m   6112\u001b[0m     keyarr, indexer, new_indexer \u001b[38;5;241m=\u001b[39m \u001b[38;5;28mself\u001b[39m\u001b[38;5;241m.\u001b[39m_reindex_non_unique(keyarr)\n\u001b[0;32m-> 6114\u001b[0m \u001b[38;5;28;43mself\u001b[39;49m\u001b[38;5;241;43m.\u001b[39;49m\u001b[43m_raise_if_missing\u001b[49m\u001b[43m(\u001b[49m\u001b[43mkeyarr\u001b[49m\u001b[43m,\u001b[49m\u001b[43m \u001b[49m\u001b[43mindexer\u001b[49m\u001b[43m,\u001b[49m\u001b[43m \u001b[49m\u001b[43maxis_name\u001b[49m\u001b[43m)\u001b[49m\n\u001b[1;32m   6116\u001b[0m keyarr \u001b[38;5;241m=\u001b[39m \u001b[38;5;28mself\u001b[39m\u001b[38;5;241m.\u001b[39mtake(indexer)\n\u001b[1;32m   6117\u001b[0m \u001b[38;5;28;01mif\u001b[39;00m \u001b[38;5;28misinstance\u001b[39m(key, Index):\n\u001b[1;32m   6118\u001b[0m     \u001b[38;5;66;03m# GH 42790 - Preserve name from an Index\u001b[39;00m\n",
      "File \u001b[0;32m~/anaconda3/envs/torch/lib/python3.9/site-packages/pandas/core/indexes/base.py:6178\u001b[0m, in \u001b[0;36mIndex._raise_if_missing\u001b[0;34m(self, key, indexer, axis_name)\u001b[0m\n\u001b[1;32m   6175\u001b[0m     \u001b[38;5;28;01mraise\u001b[39;00m \u001b[38;5;167;01mKeyError\u001b[39;00m(\u001b[38;5;124mf\u001b[39m\u001b[38;5;124m\"\u001b[39m\u001b[38;5;124mNone of [\u001b[39m\u001b[38;5;132;01m{\u001b[39;00mkey\u001b[38;5;132;01m}\u001b[39;00m\u001b[38;5;124m] are in the [\u001b[39m\u001b[38;5;132;01m{\u001b[39;00maxis_name\u001b[38;5;132;01m}\u001b[39;00m\u001b[38;5;124m]\u001b[39m\u001b[38;5;124m\"\u001b[39m)\n\u001b[1;32m   6177\u001b[0m not_found \u001b[38;5;241m=\u001b[39m \u001b[38;5;28mlist\u001b[39m(ensure_index(key)[missing_mask\u001b[38;5;241m.\u001b[39mnonzero()[\u001b[38;5;241m0\u001b[39m]]\u001b[38;5;241m.\u001b[39munique())\n\u001b[0;32m-> 6178\u001b[0m \u001b[38;5;28;01mraise\u001b[39;00m \u001b[38;5;167;01mKeyError\u001b[39;00m(\u001b[38;5;124mf\u001b[39m\u001b[38;5;124m\"\u001b[39m\u001b[38;5;132;01m{\u001b[39;00mnot_found\u001b[38;5;132;01m}\u001b[39;00m\u001b[38;5;124m not in index\u001b[39m\u001b[38;5;124m\"\u001b[39m)\n",
      "\u001b[0;31mKeyError\u001b[0m: \"['Type of Repairer', 'Type of category', 'Type of garment in category', 'Service', 'Description', 'Price', 'Estimated time in hours'] not in index\""
     ]
    }
   ],
   "source": [
    "# Usage example:\n",
    "results_df = search_categories(\"cotton shirt 199\", embeddings_dataset)\n",
    "print(results_df)"
   ]
  },
  {
   "cell_type": "code",
   "execution_count": 73,
   "id": "236c983c",
   "metadata": {},
   "outputs": [
    {
     "name": "stdout",
     "output_type": "stream",
     "text": [
      "                                          embeddings     scores\n",
      "0  [-0.033357613, -0.4306201, -0.2655698, 0.14593...  46.653767\n",
      "1  [-0.033357613, -0.4306201, -0.2655698, 0.14593...  46.653767\n",
      "2  [-0.033357613, -0.4306201, -0.2655698, 0.14593...  46.653767\n",
      "3  [-0.033357613, -0.4306201, -0.2655698, 0.14593...  46.653767\n",
      "4  [-0.033357613, -0.4306201, -0.2655698, 0.14593...  46.653767\n"
     ]
    }
   ],
   "source": [
    "\n",
    "import pandas as pd\n",
    "def search_categories(query, dataset, k=5):\n",
    "    query_embedding = get_embeddings([query]).detach().cpu().numpy()\n",
    "    scores, samples = dataset.get_nearest_examples(\"embeddings\", query_embedding, k=k)\n",
    "    df = pd.DataFrame.from_dict(samples).assign(scores=scores)\n",
    "    df[\"scores\"] = scores\n",
    "    # Show all columns, including 'scores'\n",
    "    return df.sort_values(\"scores\", ascending=False)\n",
    "\n",
    "# Usage example:\n",
    "results_df = search_categories(\"cotton shirt 199\", embeddings_dataset)\n",
    "print(results_df)\n"
   ]
  },
  {
   "cell_type": "code",
   "execution_count": 66,
   "id": "620620d9",
   "metadata": {},
   "outputs": [
    {
     "name": "stdout",
     "output_type": "stream",
     "text": [
      "Available columns: ['Type of Repairer', 'Type of category', 'Type of garment in category', 'Service', 'Description', 'Price', 'Estimated time in hours']\n"
     ]
    }
   ],
   "source": [
    "print(\"Available columns:\", df.columns.tolist())\n"
   ]
  },
  {
   "cell_type": "code",
   "execution_count": null,
   "id": "9d791281",
   "metadata": {},
   "outputs": [],
   "source": []
  }
 ],
 "metadata": {
  "kernelspec": {
   "display_name": "Python 3.9 (pytorch)",
   "language": "python",
   "name": "pytorch"
  },
  "language_info": {
   "codemirror_mode": {
    "name": "ipython",
    "version": 3
   },
   "file_extension": ".py",
   "mimetype": "text/x-python",
   "name": "python",
   "nbconvert_exporter": "python",
   "pygments_lexer": "ipython3",
   "version": "3.9.18"
  }
 },
 "nbformat": 4,
 "nbformat_minor": 5
}
