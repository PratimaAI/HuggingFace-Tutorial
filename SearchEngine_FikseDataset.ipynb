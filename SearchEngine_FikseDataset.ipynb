{
 "cells": [
  {
   "cell_type": "code",
   "execution_count": 3,
   "id": "2553f0b4",
   "metadata": {},
   "outputs": [
    {
     "name": "stdout",
     "output_type": "stream",
     "text": [
      "Dataset({\n",
      "    features: ['Type of Repairer', 'Type of category', 'Type of garment in category', 'Service', 'Description', 'Price', 'Estimated time in hours'],\n",
      "    num_rows: 257\n",
      "})\n"
     ]
    }
   ],
   "source": [
    "from datasets import load_dataset\n",
    "\n",
    "categories_dataset = load_dataset(\"csv\",data_files=\"Categories_FikseHub.csv\",split=\"train\")\n",
    "\n",
    "print(categories_dataset)"
   ]
  },
  {
   "cell_type": "code",
   "execution_count": 4,
   "id": "56ae1f08",
   "metadata": {},
   "outputs": [],
   "source": [
    "from transformers import AutoTokenizer, AutoModel\n",
    "\n",
    "model_checkpoint= \"sentence-transformers/multi-qa-mpnet-base-dot-v1\"\n",
    "tokenizer = AutoTokenizer.from_pretrained(model_checkpoint)\n",
    "model = AutoModel.from_pretrained(model_checkpoint)"
   ]
  },
  {
   "cell_type": "code",
   "execution_count": 5,
   "id": "0c69dfca",
   "metadata": {},
   "outputs": [
    {
     "data": {
      "application/vnd.jupyter.widget-view+json": {
       "model_id": "ed2e952e3c2e419b910bec690dc33f1f",
       "version_major": 2,
       "version_minor": 0
      },
      "text/plain": [
       "Map:   0%|          | 0/257 [00:00<?, ? examples/s]"
      ]
     },
     "metadata": {},
     "output_type": "display_data"
    },
    {
     "data": {
      "application/vnd.jupyter.widget-view+json": {
       "model_id": "eebcea74a6884ec79d73e521e0825171",
       "version_major": 2,
       "version_minor": 0
      },
      "text/plain": [
       "Map:   0%|          | 0/257 [00:00<?, ? examples/s]"
      ]
     },
     "metadata": {},
     "output_type": "display_data"
    }
   ],
   "source": [
    "def concatenate_text(examples):\n",
    "    # Join all relevant columns into a single text string per example (batched)\n",
    "    texts = []\n",
    "    for i in range(len(examples[\"Type of Repairer\"])):\n",
    "        text = (\n",
    "            str(examples[\"Type of Repairer\"][i]) + \"\\n\"\n",
    "            + str(examples[\"Type of category\"][i]) + \"\\n\"\n",
    "            + str(examples[\"Type of garment in category\"][i]) + \"\\n\"\n",
    "            + str(examples[\"Service\"][i]) + \"\\n\"\n",
    "            + str(examples[\"Description\"][i]) + \"\\n\"\n",
    "            + str(examples[\"Price\"][i]) + \"\\n\"\n",
    "            + str(examples[\"Estimated time in hours\"][i])\n",
    "        )\n",
    "        texts.append(text)\n",
    "    return {\"text\": texts}\n",
    "\n",
    "searching_dataset = categories_dataset.map(concatenate_text, batched=True)\n",
    "\n",
    "def cls_pooling(model_output):\n",
    "    return model_output.last_hidden_state[:, 0]\n",
    "\n",
    "def get_embeddings(text_list):\n",
    "    encoded_input = tokenizer(\n",
    "        text_list, padding=True, truncation=True, return_tensors=\"pt\"\n",
    "    )\n",
    "    model_output = model(**encoded_input)\n",
    "    return cls_pooling(model_output)\n",
    "\n",
    "def embed_batch(batch):\n",
    "    embeddings_tensor = get_embeddings(batch[\"text\"])\n",
    "    embeddings_np = embeddings_tensor.detach().cpu().numpy()\n",
    "    return {\"embeddings\": embeddings_np}\n",
    "\n",
    "searching_dataset = searching_dataset.map(embed_batch, batched=True, batch_size=16)\n"
   ]
  },
  {
   "cell_type": "code",
   "execution_count": 6,
   "id": "09539887",
   "metadata": {},
   "outputs": [
    {
     "name": "stdout",
     "output_type": "stream",
     "text": [
      "Dataset({\n",
      "    features: ['Type of Repairer', 'Type of category', 'Type of garment in category', 'Service', 'Description', 'Price', 'Estimated time in hours', 'text', 'embeddings'],\n",
      "    num_rows: 257\n",
      "})\n"
     ]
    }
   ],
   "source": [
    "print(searching_dataset)"
   ]
  },
  {
   "cell_type": "code",
   "execution_count": 7,
   "id": "6f2cb298",
   "metadata": {},
   "outputs": [
    {
     "data": {
      "application/vnd.jupyter.widget-view+json": {
       "model_id": "923165ecf6a949d4be8a7846235e3bb7",
       "version_major": 2,
       "version_minor": 0
      },
      "text/plain": [
       "  0%|          | 0/1 [00:00<?, ?it/s]"
      ]
     },
     "metadata": {},
     "output_type": "display_data"
    },
    {
     "data": {
      "text/plain": [
       "Dataset({\n",
       "    features: ['Type of Repairer', 'Type of category', 'Type of garment in category', 'Service', 'Description', 'Price', 'Estimated time in hours', 'text', 'embeddings'],\n",
       "    num_rows: 257\n",
       "})"
      ]
     },
     "execution_count": 7,
     "metadata": {},
     "output_type": "execute_result"
    }
   ],
   "source": [
    "searching_dataset.add_faiss_index(column=\"embeddings\")"
   ]
  },
  {
   "cell_type": "code",
   "execution_count": 10,
   "id": "76900b88",
   "metadata": {},
   "outputs": [],
   "source": [
    "import pandas as pd\n",
    "def search_categories(query, dataset, k=5):\n",
    "    \n",
    "    query_embedding = get_embeddings([query]).detach().cpu().numpy()\n",
    "    \n",
    "    scores, samples = searching_dataset.get_nearest_examples(\"embeddings\", query_embedding, k=k)\n",
    "    \n",
    "    df = pd.DataFrame.from_dict(samples).assign(scores=scores)\n",
    "    df[\"scores\"] = scores\n",
    "    columns_to_show = [\n",
    "        \"Type of Repairer\",\n",
    "        \"Type of category\",\n",
    "        \"Type of garment in category\",\n",
    "        \"Service\",\n",
    "        \"Description\",\n",
    "        \"Price\",\n",
    "        \"Estimated time in hours\",\n",
    "        \"scores\"\n",
    "    ]\n",
    "    \n",
    "    # Return the sorted results\n",
    "    return df[columns_to_show].sort_values(\"scores\", ascending=False)"
   ]
  },
  {
   "cell_type": "code",
   "execution_count": 16,
   "id": "610ab870",
   "metadata": {
    "scrolled": true
   },
   "outputs": [
    {
     "name": "stdout",
     "output_type": "stream",
     "text": [
      "  Type of Repairer Type of category Type of garment in category  \\\n",
      "4           Tailor          Clothes                      Skirts   \n",
      "3           Tailor          Clothes                         Top   \n",
      "2           Tailor          Clothes                     Dresses   \n",
      "1           Tailor          Clothes                     Dresses   \n",
      "0           Tailor          Clothes                      Jacket   \n",
      "\n",
      "             Service                             Description  Price  \\\n",
      "4    Take out - Wais  Single layer with only existing fabric  499.0   \n",
      "3           Take out                    Only existing fabric  349.0   \n",
      "2   Take in - Sleeve                    Only existing fabric  369.0   \n",
      "1  Take out - Sleeve                    Only existing fabric  369.0   \n",
      "0           Take out                    Only existing fabric  699.0   \n",
      "\n",
      "  Estimated time in hours     scores  \n",
      "4                    None  30.558393  \n",
      "3                    None  30.401035  \n",
      "2                    None  29.805447  \n",
      "1                    None  29.709169  \n",
      "0                    None  29.608496  \n"
     ]
    }
   ],
   "source": [
    "# Usage example:\n",
    "results_df = search_categories(\"Only fabric\", searching_dataset)\n",
    "print(results_df)"
   ]
  },
  {
   "cell_type": "code",
   "execution_count": null,
   "id": "331130b2",
   "metadata": {},
   "outputs": [],
   "source": []
  }
 ],
 "metadata": {
  "kernelspec": {
   "display_name": "Python 3.9 (pytorch)",
   "language": "python",
   "name": "pytorch"
  },
  "language_info": {
   "codemirror_mode": {
    "name": "ipython",
    "version": 3
   },
   "file_extension": ".py",
   "mimetype": "text/x-python",
   "name": "python",
   "nbconvert_exporter": "python",
   "pygments_lexer": "ipython3",
   "version": "3.9.18"
  }
 },
 "nbformat": 4,
 "nbformat_minor": 5
}
